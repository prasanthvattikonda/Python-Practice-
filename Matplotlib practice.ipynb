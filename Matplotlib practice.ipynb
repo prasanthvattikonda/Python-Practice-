{
 "cells": [
  {
   "cell_type": "code",
   "execution_count": null,
   "metadata": {},
   "outputs": [],
   "source": [
    "#>>matplot#is data visualisation package for the non linear data # pyplot is python plot #\n",
    "# matplot lib package consists of two types # plot and scatter\n",
    "# plot is to tell python to plot line # scatter to tell the python to plot the dots#\n",
    "#show is to diplay#\n",
    "# world population #\n",
    "import matplotlib.pyplot as plt\n",
    "year = ['2000','2001','2002','2003','2004','2005','2006']\n",
    "population = [0.2,0.5,0.2,0.9,0.2,0.2,0.2]\n",
    "#plt.plot(year,population)\n",
    "plt.scatter(population,year)\n",
    "plt.title('world population')\n",
    "#plt.legend(year, population)\n",
    "plt.hist(population,10)  #histogram is a clear visualisation picture using bins#\n",
    "plt.xlabel('population(x)')\n",
    "plt.ylabel('year(y)')\n",
    "#>>custmizations are also availble to make visuallization more clear by adding some colours , grid\n",
    "#bubbling the dots and text in side the plot# add c= col in scatter#\n",
    "#plt.text(2000, 0.2, 'India')\n",
    "#plt.grid(True)\n",
    "#plt.savefig()\n",
    "plt.show()"
   ]
  },
  {
   "cell_type": "code",
   "execution_count": 9,
   "metadata": {},
   "outputs": [
    {
     "ename": "NameError",
     "evalue": "name 'Weight' is not defined",
     "output_type": "error",
     "traceback": [
      "\u001b[1;31m---------------------------------------------------------------------------\u001b[0m",
      "\u001b[1;31mNameError\u001b[0m                                 Traceback (most recent call last)",
      "\u001b[1;32m<ipython-input-9-8bc87d3bd877>\u001b[0m in \u001b[0;36m<module>\u001b[1;34m\u001b[0m\n\u001b[0;32m      3\u001b[0m \u001b[1;31m#bk=pd.read_csv(r'C:\\\\Users\\\\prasanth vattikonda\\\\Python\\raw_fighter_details.csv')\u001b[0m\u001b[1;33m\u001b[0m\u001b[1;33m\u001b[0m\u001b[1;33m\u001b[0m\u001b[0m\n\u001b[0;32m      4\u001b[0m \u001b[0mbk\u001b[0m\u001b[1;33m=\u001b[0m\u001b[0mpd\u001b[0m\u001b[1;33m.\u001b[0m\u001b[0mread_csv\u001b[0m\u001b[1;33m(\u001b[0m\u001b[1;34mr'C://Users//prasanth vattikonda//Python/raw_fighter_details.csv'\u001b[0m\u001b[1;33m)\u001b[0m\u001b[1;33m\u001b[0m\u001b[1;33m\u001b[0m\u001b[0m\n\u001b[1;32m----> 5\u001b[1;33m \u001b[0mplt\u001b[0m\u001b[1;33m.\u001b[0m\u001b[0mplot\u001b[0m\u001b[1;33m(\u001b[0m\u001b[0mbk\u001b[0m\u001b[1;33m,\u001b[0m\u001b[0mWeight\u001b[0m\u001b[1;33m,\u001b[0m\u001b[0mHeight\u001b[0m\u001b[1;33m,\u001b[0m\u001b[1;34m'blue'\u001b[0m\u001b[1;33m)\u001b[0m\u001b[1;33m\u001b[0m\u001b[1;33m\u001b[0m\u001b[0m\n\u001b[0m\u001b[0;32m      6\u001b[0m \u001b[0mplt\u001b[0m\u001b[1;33m.\u001b[0m\u001b[0mshow\u001b[0m\u001b[1;33m(\u001b[0m\u001b[1;33m)\u001b[0m\u001b[1;33m\u001b[0m\u001b[1;33m\u001b[0m\u001b[0m\n",
      "\u001b[1;31mNameError\u001b[0m: name 'Weight' is not defined"
     ]
    }
   ],
   "source": [
    "import pandas as pd\n",
    "import matplotlib.pyplot as plt\n",
    "#bk=pd.read_csv(r'C:\\\\Users\\\\prasanth vattikonda\\\\Python\\raw_fighter_details.csv')\n",
    "bk=pd.read_csv(r'C://Users//prasanth vattikonda//Python/raw_fighter_details.csv')\n",
    "plt.plot(Weight,Height,'blue')\n",
    "plt.show()"
   ]
  },
  {
   "cell_type": "markdown",
   "metadata": {},
   "source": []
  },
  {
   "cell_type": "code",
   "execution_count": 4,
   "metadata": {},
   "outputs": [
    {
     "data": {
      "image/png": "[encoded data removed]",
      "text/plain": [
       "<Figure size 432x288 with 2 Axes>"
      ]
     },
     "metadata": {
      "needs_background": "light"
     },
     "output_type": "display_data"
    }
   ],
   "source": [
    "df = pd.DataFrame({\n",
    " 'length': [1.5, 0.5, 1.2, 0.9, 3],\n",
    " 'width': [0.7, 0.2, 0.15, 0.2, 1.1]\n",
    "}, index= ['pig', 'rabbit', 'duck', 'chicken', 'horse']) \n",
    "hist = df.hist(bins=3)"
   ]
  },
  {
   "cell_type": "code",
   "execution_count": null,
   "metadata": {},
   "outputs": [],
   "source": []
  }
 ],
 "metadata": {
  "kernelspec": {
   "display_name": "Python 3",
   "language": "python",
   "name": "python3"
  },
  "language_info": {
   "codemirror_mode": {
    "name": "ipython",
    "version": 3
   },
   "file_extension": ".py",
   "mimetype": "text/x-python",
   "name": "python",
   "nbconvert_exporter": "python",
   "pygments_lexer": "ipython3",
   "version": "3.7.4"
  }
 },
 "nbformat": 4,
 "nbformat_minor": 2
}
