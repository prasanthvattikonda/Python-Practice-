{
 "cells": [
  {
   "cell_type": "code",
   "execution_count": 14,
   "metadata": {},
   "outputs": [
    {
     "data": {
      "text/plain": [
       "8"
      ]
     },
     "execution_count": 14,
     "metadata": {},
     "output_type": "execute_result"
    }
   ],
   "source": [
    "#Afunction is bunch of instructions together to handle repeated operations to use whenever we want in the same program#\n",
    "#basic function call# below example telling cube() is function defined#\n",
    "def cube(value) :\n",
    "  n_value = value **3\n",
    "  return n_value\n",
    "cube(2)         #function call #now i can call this function whenever i want in the program\n",
    "#Here return is just to return the value , it cannot print#"
   ]
  },
  {
   "cell_type": "code",
   "execution_count": 5,
   "metadata": {},
   "outputs": [
    {
     "name": "stdout",
     "output_type": "stream",
     "text": [
      "('congratulations!!!', 'you!!!')\n"
     ]
    }
   ],
   "source": [
    "#Example for string() calling using functions\n",
    "def shout_all(word1, word2):\n",
    "    shout1 = word1 + '!!!'\n",
    "    shout2 = word2 + '!!!'\n",
    "    shout_words = (shout1, shout2)\n",
    "    return shout_words\n",
    "shout_words = shout_all('congratulations', 'you')\n",
    "print(shout_words)\n",
    "#print(yell2)"
   ]
  },
  {
   "cell_type": "code",
   "execution_count": 17,
   "metadata": {},
   "outputs": [
    {
     "name": "stdout",
     "output_type": "stream",
     "text": [
      "{'5\\' 4\"': 69, '5\\' 11\"': 312, '5\\' 10\"': 322, '5\\' 7\"': 226, '6\\' 0\"': 389, '6\\' 3\"': 172, '5\\' 8\"': 249, '6\\' 2\"': 218, nan: 263, '5\\' 9\"': 327, '6\\' 4\"': 83, '5\\' 5\"': 99, '6\\' 1\"': 261, '6\\' 5\"': 36, '5\\' 6\"': 181, '5\\' 2\"': 11, '6\\' 6\"': 16, '5\\' 3\"': 37, '6\\' 7\"': 11, '5\\' 1\"': 10, '4\\' 11\"': 1, '5\\' 0\"': 2, '6\\' 11\"': 3, '6\\' 8\"': 9, '6\\' 10\"': 3, '7\\' 2\"': 1, '7\\' 5\"': 1, '6\\' 9\"': 1}\n"
     ]
    }
   ],
   "source": [
    "import pandas as pd\n",
    "df = pd.read_csv(r'C:\\\\Users\\\\prasanth vattikonda\\\\Python\\raw_fighter_details.csv')\n",
    "# Define count_entries()\n",
    "def weight_entries(df, col_name):\n",
    "    \"\"\"Return a dictionary with counts of \n",
    "    occurrences as value for each key.\"\"\"\n",
    "# Initialize an empty dictionary\n",
    "    weight = {}\n",
    "# Extract column from DataFrame: col\n",
    "    col = df[col_name]\n",
    "# Iterate over weight column in DataFrame\n",
    "    for entry in col:\n",
    "# If the weight is in weight, add 1\n",
    "        if entry in weight.keys():\n",
    "            weight[entry] += 1\n",
    "# Else add the weight to weight, set the value to 1\n",
    "        else:\n",
    "            weight[entry] = 1\n",
    "# Return the weight in dictionary\n",
    "    return weight\n",
    "# Call count_entries(): result\n",
    "result = weight_entries(df,'Height')\n",
    "# Print the result\n",
    "print(result)"
   ]
  },
  {
   "cell_type": "code",
   "execution_count": 7,
   "metadata": {},
   "outputs": [
    {
     "ename": "TypeError",
     "evalue": "cannot unpack non-iterable function object",
     "output_type": "error",
     "traceback": [
      "\u001b[1;31m---------------------------------------------------------------------------\u001b[0m",
      "\u001b[1;31mTypeError\u001b[0m                                 Traceback (most recent call last)",
      "\u001b[1;32m<ipython-input-7-7ce6ab1af635>\u001b[0m in \u001b[0;36m<module>\u001b[1;34m\u001b[0m\n\u001b[0;32m     15\u001b[0m \u001b[1;33m\u001b[0m\u001b[0m\n\u001b[0;32m     16\u001b[0m \u001b[1;31m# Pass 'congratulations' and 'you' to shout_all(): yell1, yell2\u001b[0m\u001b[1;33m\u001b[0m\u001b[1;33m\u001b[0m\u001b[1;33m\u001b[0m\u001b[0m\n\u001b[1;32m---> 17\u001b[1;33m \u001b[0myell1\u001b[0m\u001b[1;33m,\u001b[0m \u001b[0myell2\u001b[0m \u001b[1;33m=\u001b[0m \u001b[0mshout_all\u001b[0m\u001b[1;33m\u001b[0m\u001b[1;33m\u001b[0m\u001b[0m\n\u001b[0m\u001b[0;32m     18\u001b[0m \u001b[1;33m(\u001b[0m\u001b[1;34m'congratulations'\u001b[0m\u001b[1;33m,\u001b[0m \u001b[1;34m'you'\u001b[0m\u001b[1;33m)\u001b[0m\u001b[1;33m\u001b[0m\u001b[1;33m\u001b[0m\u001b[0m\n\u001b[0;32m     19\u001b[0m \u001b[1;31m# Print yell1 and yell2\u001b[0m\u001b[1;33m\u001b[0m\u001b[1;33m\u001b[0m\u001b[1;33m\u001b[0m\u001b[0m\n",
      "\u001b[1;31mTypeError\u001b[0m: cannot unpack non-iterable function object"
     ]
    }
   ],
   "source": [
    "# Define shout_all with parameters word1 and word2\n",
    "def shout_all(word1, word2):\n",
    "    \"\"\"Return a tuple of strings\"\"\"\n",
    "    # Concatenate word1 with '!!!': shout1\n",
    "    shout1 = word1 + '!!!'\n",
    "    \n",
    "    # Concatenate word2 with '!!!': shout2\n",
    "    shout2 = word2 + '!!!'\n",
    "    \n",
    "    # Construct a tuple with shout1 and shout2: shout_words\n",
    "    shout_words = (shout1, shout2)\n",
    "\n",
    "    # Return shout_words\n",
    "    return shout_words\n",
    "\n",
    "# Pass 'congratulations' and 'you' to shout_all(): yell1, yell2\n",
    "yell1, yell2 = shout_all\n",
    "('congratulations', 'you')\n",
    "# Print yell1 and yell2\n",
    "print(yell1)\n",
    "print(yell2)"
   ]
  },
  {
   "cell_type": "code",
   "execution_count": 24,
   "metadata": {},
   "outputs": [
    {
     "name": "stdout",
     "output_type": "stream",
     "text": [
      "27\n",
      "36\n"
     ]
    }
   ],
   "source": [
    "#Scope#Global function# Local Function# Built in function\n",
    "#Scope is the part of the program , that any variable or object can be accessed#\n",
    "#the scope where variable defined inside the function is called Local Scope#as below 'cube()\n",
    "#Useually the variable which is declared in local function cannot be used in outside the function#\n",
    "#the Scope where varaiable defined in body of the script is called Global Scope# as below 'global n_value'#\n",
    "#Global varaible can be accessed in any place of the program\n",
    "#-----------------Try below code, how global &local  scope works by uncommenting-----------\n",
    "\n",
    "#n_value =3        \n",
    "def cube(value) :\n",
    "#  global n_value\n",
    "#  n_value = n_value**3\n",
    "  n_value = value**3\n",
    "  return n_value\n",
    "cube(4)\n",
    "print(n_value)\n",
    "#x = n_value + 9\n",
    "#print(x)\n"
   ]
  },
  {
   "cell_type": "code",
   "execution_count": 31,
   "metadata": {},
   "outputs": [
    {
     "name": "stdout",
     "output_type": "stream",
     "text": [
      "hellohello hellohellohello\n"
     ]
    }
   ],
   "source": [
    "#If you want to repeat the function operation into n number of times # Here is the way using Nested function#\n",
    "# Nested Function Example \n",
    "def echo(n):\n",
    "    \"\"\"Return the inner_echo function.\"\"\"\n",
    "\n",
    "    # Define inner_echo\n",
    "    def inner_echo(word1):\n",
    "        \"\"\"Concatenate n copies of word1.\"\"\"\n",
    "        echo_word = word1 * n\n",
    "        return echo_word\n",
    "\n",
    "    # Return inner_echo\n",
    "    return inner_echo\n",
    "\n",
    "# Call echo: twice\n",
    "twice = echo(2)\n",
    "\n",
    "# Call echo: thrice\n",
    "thrice = echo(3)\n",
    "\n",
    "# Call twice() and thrice() then print\n",
    "print(twice('hello'), thrice('hello'))\n"
   ]
  },
  {
   "cell_type": "code",
   "execution_count": 32,
   "metadata": {},
   "outputs": [
    {
     "name": "stdout",
     "output_type": "stream",
     "text": [
      "hellohello hellohellohello\n"
     ]
    }
   ],
   "source": [
    "# Functions with default arguments, we can declare the value inside the function #\n",
    "def shout_echo(word1, echo = 1):\n",
    "    \"\"\"Concatenate echo copies of word1 and three\n",
    "     exclamation marks at the end of the string.\"\"\"\n",
    "\n",
    "    # Concatenate echo copies of word1 using *: echo_word\n",
    "    echo_word = word1 * echo\n",
    "\n",
    "    # Concatenate '!!!' to echo_word: shout_word\n",
    "    shout_word = echo_word + '!!!'\n",
    "\n",
    "    # Return shout_word\n",
    "    return shout_word\n",
    "\n",
    "# Call shout_echo() with \"Hey\": no_echo\n",
    "no_echo = shout_echo('Hey')\n",
    "\n",
    "# Call shout_echo() with \"Hey\" and echo=5: with_echo\n",
    "with_echo = shout_echo('Hey',5)\n",
    "\n",
    "# Print no_echo and with_echo\n",
    "print(no_echo)\n",
    "print(with_echo)"
   ]
  },
  {
   "cell_type": "code",
   "execution_count": 33,
   "metadata": {},
   "outputs": [
    {
     "name": "stdout",
     "output_type": "stream",
     "text": [
      "Hey\n",
      "lukeleiahanobidarth\n"
     ]
    }
   ],
   "source": [
    "##>Flexible arguments # here, you can able to get the more than one string#\n",
    "# Define gibberish\n",
    "def gibberish(*args):                      # *args need to be passed in arguments to get multiple strings \n",
    "    \"\"\"Concatenate strings in *args together.\"\"\"\n",
    "\n",
    "    # Initialize an empty string: hodgepodge\n",
    "    hodgepodge=('')                         # Iintialization\n",
    "\n",
    "    # Concatenate the strings in args\n",
    "    for word in args:\n",
    "        hodgepodge += word\n",
    "\n",
    "    # Return hodgepodge\n",
    "    return hodgepodge\n",
    "\n",
    "# Call gibberish() with one string: one_word\n",
    "one_word = gibberish('Hey')\n",
    "\n",
    "# Call gibberish() with five strings: many_words\n",
    "many_words = gibberish(\"luke\", \"leia\", \"han\", \"obi\", \"darth\")\n",
    "\n",
    "# Print one_word and many_words\n",
    "print(one_word)\n",
    "print(many_words)"
   ]
  },
  {
   "cell_type": "code",
   "execution_count": null,
   "metadata": {},
   "outputs": [],
   "source": [
    "# Flexible arguments# keyword arguments like a dictionary manner # movie report for example below\n",
    "def report_status(**kwargs):\n",
    "    \"\"\"Print out the status of a movie character.\"\"\"\n",
    "\n",
    "    print(\"\\nBEGIN: REPORT\\n\")\n",
    "\n",
    "    # Iterate over the key-value pairs of kwargs\n",
    "    for key, value in kwargs.items():\n",
    "        # Print out the keys and values, separated by a colon ':'\n",
    "        print(key + \": \" + value)\n",
    "\n",
    "    print(\"\\nEND REPORT\")\n",
    "\n",
    "# First call to report_status()\n",
    "report_status(name = 'luke', affiliation= 'jedi', status= 'missing')\n",
    "\n",
    "# Second call to report_status()\n",
    "report_status(name='anakin', affiliation='sith lord', status='deceased')"
   ]
  },
  {
   "cell_type": "code",
   "execution_count": 25,
   "metadata": {},
   "outputs": [
    {
     "name": "stdout",
     "output_type": "stream",
     "text": [
      "heyheyheyheyhey\n"
     ]
    }
   ],
   "source": [
    "#Lambda function : is easy way to define function in a simple and short way using Lambda#\n",
    "\n",
    "echo_word = (lambda word1, echo: word1 * echo)\n",
    "# Call echo_word: result\n",
    "result = echo_word('hey', 5)\n",
    "# Print result\n",
    "print(result)"
   ]
  },
  {
   "cell_type": "code",
   "execution_count": 32,
   "metadata": {},
   "outputs": [
    {
     "name": "stdout",
     "output_type": "stream",
     "text": [
      "[16, 9, 36, 64]\n"
     ]
    }
   ],
   "source": [
    "#embedding with map()\n",
    "#lambda functions applying for the list of elements using map() function# Here at the end ,to list out,we need convert the type\n",
    "n = [4,3,6,8]\n",
    "\n",
    "magic = map(lambda n:n**2,n)\n",
    "magic1 = list(magic)\n",
    "print(magic1)"
   ]
  },
  {
   "cell_type": "code",
   "execution_count": 34,
   "metadata": {},
   "outputs": [
    {
     "name": "stdout",
     "output_type": "stream",
     "text": [
      "[6, 8]\n"
     ]
    }
   ],
   "source": [
    "#embedding filter function\n",
    "#filter function is used for satisfy criteria through lambda function#\n",
    "n = [4,3,6,8]\n",
    "\n",
    "magic = filter(lambda n:n>=6,n)\n",
    "magic1 = list(magic)\n",
    "print(magic1)"
   ]
  },
  {
   "cell_type": "code",
   "execution_count": 45,
   "metadata": {},
   "outputs": [
    {
     "name": "stdout",
     "output_type": "stream",
     "text": [
      "prasanthharsharamswapnilyogesh\n"
     ]
    }
   ],
   "source": [
    "#embedding reduce() function in the lambda \n",
    "#This will combine and reduce the length of the strings#\n",
    "from functools import reduce\n",
    "n = ['prasanth','harsha','ram','swapnil','yogesh']\n",
    "magic = reduce(lambda item1,item2:item1+item2,n)\n",
    "#magic1 = list(magic)\n",
    "print(magic)"
   ]
  },
  {
   "cell_type": "code",
   "execution_count": 50,
   "metadata": {},
   "outputs": [
    {
     "data": {
      "text/plain": [
       "5"
      ]
     },
     "execution_count": 50,
     "metadata": {},
     "output_type": "execute_result"
    }
   ],
   "source": [
    "#>>>Just check out below, how len() will handles the strings,tuples,lists and integers\n",
    "\n",
    "#len('There is a beast in every man and it stirs when you put a sword in his hand.')\n",
    "\n",
    "#len(['robb', 'sansa', 'arya', 'eddard', 'jon'])\n",
    "\n",
    "#len(525600)\n",
    "\n",
    "#len(('jaime', 'cersei', 'tywin', 'tyrion', 'joffrey'))"
   ]
  },
  {
   "cell_type": "code",
   "execution_count": 70,
   "metadata": {},
   "outputs": [
    {
     "name": "stdout",
     "output_type": "stream",
     "text": [
      "word1 might not be string \n"
     ]
    },
    {
     "ename": "UnboundLocalError",
     "evalue": "local variable 'magic_word' referenced before assignment",
     "output_type": "error",
     "traceback": [
      "\u001b[1;31m---------------------------------------------------------------------------\u001b[0m",
      "\u001b[1;31mUnboundLocalError\u001b[0m                         Traceback (most recent call last)",
      "\u001b[1;32m<ipython-input-70-6a3dcfc9ff0d>\u001b[0m in \u001b[0;36m<module>\u001b[1;34m\u001b[0m\n\u001b[0;32m      9\u001b[0m       \u001b[0mprint\u001b[0m\u001b[1;33m(\u001b[0m\u001b[1;34m'word1 might not be string '\u001b[0m\u001b[1;33m)\u001b[0m\u001b[1;33m\u001b[0m\u001b[1;33m\u001b[0m\u001b[0m\n\u001b[0;32m     10\u001b[0m     \u001b[1;32mreturn\u001b[0m \u001b[0mmagic_word\u001b[0m\u001b[1;33m\u001b[0m\u001b[1;33m\u001b[0m\u001b[0m\n\u001b[1;32m---> 11\u001b[1;33m \u001b[0mmagic\u001b[0m\u001b[1;33m(\u001b[0m\u001b[1;34m'Hey'\u001b[0m\u001b[1;33m)\u001b[0m\u001b[1;33m\u001b[0m\u001b[1;33m\u001b[0m\u001b[0m\n\u001b[0m",
      "\u001b[1;32m<ipython-input-70-6a3dcfc9ff0d>\u001b[0m in \u001b[0;36mmagic\u001b[1;34m(word1)\u001b[0m\n\u001b[0;32m      8\u001b[0m     \u001b[1;32mexcept\u001b[0m\u001b[1;33m:\u001b[0m\u001b[1;33m\u001b[0m\u001b[1;33m\u001b[0m\u001b[0m\n\u001b[0;32m      9\u001b[0m       \u001b[0mprint\u001b[0m\u001b[1;33m(\u001b[0m\u001b[1;34m'word1 might not be string '\u001b[0m\u001b[1;33m)\u001b[0m\u001b[1;33m\u001b[0m\u001b[1;33m\u001b[0m\u001b[0m\n\u001b[1;32m---> 10\u001b[1;33m     \u001b[1;32mreturn\u001b[0m \u001b[0mmagic_word\u001b[0m\u001b[1;33m\u001b[0m\u001b[1;33m\u001b[0m\u001b[0m\n\u001b[0m\u001b[0;32m     11\u001b[0m \u001b[0mmagic\u001b[0m\u001b[1;33m(\u001b[0m\u001b[1;34m'Hey'\u001b[0m\u001b[1;33m)\u001b[0m\u001b[1;33m\u001b[0m\u001b[1;33m\u001b[0m\u001b[0m\n",
      "\u001b[1;31mUnboundLocalError\u001b[0m: local variable 'magic_word' referenced before assignment"
     ]
    }
   ],
   "source": [
    "#Now let see how error handling functions #\n",
    "#the purpose of the error handling functions are to avoid the accidental misuse of our functins sometimes and \n",
    "#inappropriate error messages# So, using try-except functions we can handle them #\n",
    "def magic(word1):\n",
    "    word1 = {''}\n",
    "    try:\n",
    "      magic_word = word1 +'!!!'\n",
    "    except:\n",
    "      print('word1 might not be string ')\n",
    "    return magic_word\n",
    "magic('Hey')"
   ]
  },
  {
   "cell_type": "code",
   "execution_count": 74,
   "metadata": {},
   "outputs": [
    {
     "data": {
      "text/plain": [
       "'prasanthprasanthprasanth!!!'"
      ]
     },
     "execution_count": 74,
     "metadata": {},
     "output_type": "execute_result"
    }
   ],
   "source": [
    "#raise is the another error handling function been used whenever the argument is lessthan 0#\n",
    "def magic(word1, value=1):\n",
    "    # Raise an error with raise\n",
    "    if value < 0:\n",
    "        raise ValueError('echo must be greater than or equal to 0')\n",
    "    word = word1 * value\n",
    "    word2 = word + '!!!'\n",
    "    return word2\n",
    "# Call shout_echo\n",
    "magic('prasanth',3)"
   ]
  },
  {
   "cell_type": "code",
   "execution_count": null,
   "metadata": {},
   "outputs": [],
   "source": []
  }
 ],
 "metadata": {
  "kernelspec": {
   "display_name": "Python 3",
   "language": "python",
   "name": "python3"
  },
  "language_info": {
   "codemirror_mode": {
    "name": "ipython",
    "version": 3
   },
   "file_extension": ".py",
   "mimetype": "text/x-python",
   "name": "python",
   "nbconvert_exporter": "python",
   "pygments_lexer": "ipython3",
   "version": "3.7.4"
  }
 },
 "nbformat": 4,
 "nbformat_minor": 2
}
