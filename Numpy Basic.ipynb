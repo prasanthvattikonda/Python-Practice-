{
 "cells": [
  {
   "cell_type": "code",
   "execution_count": 1,
   "metadata": {},
   "outputs": [
    {
     "name": "stdout",
     "output_type": "stream",
     "text": [
      "[[180.   78.4]\n",
      " [215.  102.7]\n",
      " [210.   98.5]\n",
      " [188.   75.2]]\n"
     ]
    },
    {
     "data": {
      "text/plain": [
       "array([[1., 1.],\n",
       "       [1., 1.]])"
      ]
     },
     "execution_count": 1,
     "metadata": {},
     "output_type": "execute_result"
    }
   ],
   "source": [
    "#2d Numpy Practice# We can also embedd the list from directly from the system#\n",
    "#single data type only #\n",
    "import numpy as np\n",
    "np_baseball = np.array([[180, 78.4],[215, 102.7],[210, 98.5],[188, 75.2]])\n",
    "#np_baseball = np.array(baseball) #embedded list baseball from system\n",
    "#np_baseball[:,1]\n",
    "print(np_baseball)\n",
    "#print(type(np_baseball))\n",
    "#np_baseball.shape\n",
    "x=np_baseball[:,1]\n",
    "np.mean(x)\n",
    "np.median(x)\n",
    "np.std(x)\n",
    "np.corrcoef(np_baseball[0,],np_baseball[1,])"
   ]
  },
  {
   "cell_type": "code",
   "execution_count": 11,
   "metadata": {},
   "outputs": [
    {
     "name": "stdout",
     "output_type": "stream",
     "text": [
      "[ True  True  True]\n",
      "[False  True  True]\n",
      "[False False False]\n",
      "[ True  True False]\n"
     ]
    }
   ],
   "source": [
    "#Comparisons in python\n",
    "2 < 5\n",
    "2 == 5\n",
    "True == False\n",
    "'Prasanth' == 'prasanth'\n",
    "2*5 <= 18\n",
    "#Now, we can also do these comparisons to an array/ one array to another array using Numpy\n",
    "#these comparisons will actually generate a array \n",
    "a = np.array([53,56,94])\n",
    "n = np.array([23,94,200])\n",
    "print(a < 100)\n",
    "print(a <= n)\n",
    "#Boolean Operators like and , or , not between two arrays in numpy which are used as logical_and,logocal_or, logical_not\n",
    "print(np.logical_and(a<50,n<100))\n",
    "print(np.logical_or(a<50,n<100))"
   ]
  },
  {
   "cell_type": "code",
   "execution_count": null,
   "metadata": {},
   "outputs": [],
   "source": []
  }
 ],
 "metadata": {
  "kernelspec": {
   "display_name": "Python 3",
   "language": "python",
   "name": "python3"
  },
  "language_info": {
   "codemirror_mode": {
    "name": "ipython",
    "version": 3
   },
   "file_extension": ".py",
   "mimetype": "text/x-python",
   "name": "python",
   "nbconvert_exporter": "python",
   "pygments_lexer": "ipython3",
   "version": "3.7.4"
  }
 },
 "nbformat": 4,
 "nbformat_minor": 2
}
