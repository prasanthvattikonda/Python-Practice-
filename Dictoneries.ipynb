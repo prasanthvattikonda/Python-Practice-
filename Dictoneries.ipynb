{
 "cells": [
  {
   "cell_type": "code",
   "execution_count": 17,
   "metadata": {},
   "outputs": [
    {
     "name": "stdout",
     "output_type": "stream",
     "text": [
      "berlin\n",
      "{'spain': 'madrid', 'framce': 'paris', 'germany': 'berlin', 'norway': 'oslo', 'poland': 'warsaw'}\n"
     ]
    }
   ],
   "source": [
    "#>>Dictoneries#{}#\n",
    "#Dictoneries contains keys and values # these are about to call the index value particular element #\n",
    "# Lists also can work to call the index value BUT, they are not much conevenient and intutive as Dictoneries #\n",
    "countries = ['spain', 'france', 'germany', 'norway']\n",
    "capitals = ['madrid', 'paris', 'berlin', 'oslo']\n",
    "ind_ger = countries.index('germany')\n",
    "ind_ger\n",
    "print(capitals[ind_ger]) ## using lists ##\n",
    "europe = { 'spain':'madrid','framce':'paris','germany':'berlin','norway':'oslo'} ##usng Dictoneries\n",
    "#to get the particular value of the key #\n",
    "europe['spain']\n",
    "#to get the all the keys and values of the dictonary#\n",
    "europe.keys()\n",
    "europe.values()\n",
    "#Update, Add and Delete#\n",
    "europe['italy'] = 'rome' # in the same we can update existing key and value #\n",
    "europe['poland'] = 'warsaw'\n",
    "del(europe['italy'])\n",
    "#print('italy' in europe)   ## to check, if key is present in europe or not##\n",
    "print(europe)\n",
    "    \n",
    "#Dictoneries should contain unique keys\n",
    "#Immutable\n",
    "#Not index based like List, completly key based \n"
   ]
  },
  {
   "cell_type": "code",
   "execution_count": 20,
   "metadata": {},
   "outputs": [
    {
     "name": "stdout",
     "output_type": "stream",
     "text": [
      "             spain france germany norway\n",
      "capital     madrid  paris  berlin   oslo\n",
      "population   46.77  66.03   80.62  5.084\n"
     ]
    }
   ],
   "source": [
    "# Dictionary of dictionaries\n",
    "europe = { 'spain': { 'capital':'madrid', 'population':46.77 },\n",
    "           'france': { 'capital':'paris', 'population':66.03 },\n",
    "           'germany': { 'capital':'berlin', 'population':80.62 },\n",
    "           'norway': { 'capital':'oslo', 'population':5.084 } }\n",
    "import pandas as pd\n",
    "df = pd.DataFrame(europe)\n",
    "print(df)\n",
    "#europe['france']['capital']"
   ]
  },
  {
   "cell_type": "code",
   "execution_count": null,
   "metadata": {},
   "outputs": [],
   "source": []
  }
 ],
 "metadata": {
  "kernelspec": {
   "display_name": "Python 3",
   "language": "python",
   "name": "python3"
  },
  "language_info": {
   "codemirror_mode": {
    "name": "ipython",
    "version": 3
   },
   "file_extension": ".py",
   "mimetype": "text/x-python",
   "name": "python",
   "nbconvert_exporter": "python",
   "pygments_lexer": "ipython3",
   "version": "3.7.4"
  }
 },
 "nbformat": 4,
 "nbformat_minor": 2
}
