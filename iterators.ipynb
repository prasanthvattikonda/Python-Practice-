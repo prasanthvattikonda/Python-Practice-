{
 "cells": [
  {
   "cell_type": "code",
   "execution_count": 29,
   "metadata": {},
   "outputs": [
    {
     "name": "stdout",
     "output_type": "stream",
     "text": [
      "p\n",
      "r\n",
      "a s a n t h\n"
     ]
    }
   ],
   "source": [
    "#>> Iteration is the process which contains repeatation of the iterators in the iterable object#\n",
    "#In the below example , x is iterable ,next(i) is the iterator#\n",
    "#iterable is the object which is associated with the iter() method#\n",
    "x = 'prasanth'\n",
    "i = iter(x)\n",
    "print(next(i))\n",
    "print(next(i))\n",
    "print(*i)"
   ]
  },
  {
   "cell_type": "code",
   "execution_count": 31,
   "metadata": {},
   "outputs": [
    {
     "name": "stdout",
     "output_type": "stream",
     "text": [
      "p\n",
      "r\n",
      "a\n",
      "s\n",
      "a\n",
      "n\n",
      "t\n",
      "h\n"
     ]
    }
   ],
   "source": [
    "#itering of a string  \n",
    "x = 'prasanth'\n",
    "for i in x:\n",
    " print(i)"
   ]
  },
  {
   "cell_type": "code",
   "execution_count": 27,
   "metadata": {},
   "outputs": [
    {
     "name": "stdout",
     "output_type": "stream",
     "text": [
      "Name1 Prasanth\n",
      "Name2 Harsha\n"
     ]
    }
   ],
   "source": [
    "#itering of the dictionary using items() method\n",
    "x = {'Name1' : 'Prasanth','Name2' : 'Harsha'}\n",
    "for key,value in x.items():\n",
    "    print(key, value)"
   ]
  },
  {
   "cell_type": "code",
   "execution_count": 36,
   "metadata": {},
   "outputs": [
    {
     "name": "stdout",
     "output_type": "stream",
     "text": [
      "fighter_name\n",
      "Height\n"
     ]
    }
   ],
   "source": [
    "#itering of the file \n",
    "import pandas as pd\n",
    "file = pd.read_csv(r'C:\\\\Users\\\\prasanth vattikonda\\\\Python\\raw_fighter_details.csv')\n",
    "i = iter(file)\n",
    "print(next(i))         #first line of the file\n",
    "print(next(i))         #second line of the file"
   ]
  },
  {
   "cell_type": "code",
   "execution_count": 41,
   "metadata": {},
   "outputs": [
    {
     "name": "stdout",
     "output_type": "stream",
     "text": [
      "<class 'enumerate'>\n",
      "[(0, 'radhika'), (1, 'sampath'), (2, 'veena'), (3, 'leela'), (4, 'ragul')]\n",
      "(0, 'radhika')\n",
      "(1, 'sampath')\n",
      "(2, 'veena')\n",
      "(3, 'leela')\n",
      "(4, 'ragul')\n"
     ]
    }
   ],
   "source": [
    "#>>>NOW, Let's come to the main concept #\n",
    "#We can also use the above iterable and iterators as the arguments in the functions# Let's see how it is..\n",
    "#Using enumerate() and zip() functions#\n",
    "#enumerate is a function which will display the index value as interator by default#\n",
    "#now, x is a iterable having list of my friends #\n",
    "x = ['radhika','sampath','veena','leela','ragul']\n",
    "y = enumerate(x)\n",
    "print(type(y))\n",
    "print(list(y))\n",
    "#wrting for loop, enumerate function\n",
    "for i in enumerate(x):\n",
    "    print(i)"
   ]
  },
  {
   "cell_type": "code",
   "execution_count": 40,
   "metadata": {},
   "outputs": [
    {
     "name": "stdout",
     "output_type": "stream",
     "text": [
      "(0, 'radhika')\n",
      "(1, 'sampath')\n",
      "(2, 'veena')\n",
      "(3, 'leela')\n",
      "(4, 'ragul')\n"
     ]
    }
   ],
   "source": [
    "\n"
   ]
  },
  {
   "cell_type": "code",
   "execution_count": null,
   "metadata": {},
   "outputs": [],
   "source": []
  }
 ],
 "metadata": {
  "kernelspec": {
   "display_name": "Python 3",
   "language": "python",
   "name": "python3"
  },
  "language_info": {
   "codemirror_mode": {
    "name": "ipython",
    "version": 3
   },
   "file_extension": ".py",
   "mimetype": "text/x-python",
   "name": "python",
   "nbconvert_exporter": "python",
   "pygments_lexer": "ipython3",
   "version": "3.7.4"
  }
 },
 "nbformat": 4,
 "nbformat_minor": 2
}
