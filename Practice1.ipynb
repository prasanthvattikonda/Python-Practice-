{
 "cells": [
  {
   "cell_type": "code",
   "execution_count": 8,
   "metadata": {},
   "outputs": [
    {
     "name": "stdout",
     "output_type": "stream",
     "text": [
      "[4, 3, 2, 1]\n"
     ]
    }
   ],
   "source": [
    "y=[1,2,3,4]\n",
    "y.reverse()\n",
    "print(y)"
   ]
  },
  {
   "cell_type": "code",
   "execution_count": 17,
   "metadata": {},
   "outputs": [
    {
     "name": "stdout",
     "output_type": "stream",
     "text": [
      "['o']\n"
     ]
    }
   ],
   "source": [
    "import numpy as np\n",
    "a=np.array(['l','m','n','o','r'])\n",
    "b=np.array([1,2,3,4,5])\n",
    "c=a[b==4]\n",
    "print(c)"
   ]
  },
  {
   "cell_type": "code",
   "execution_count": 40,
   "metadata": {},
   "outputs": [
    {
     "name": "stdout",
     "output_type": "stream",
     "text": [
      "tv\n",
      "tv\n"
     ]
    },
    {
     "ename": "AttributeError",
     "evalue": "'list' object has no attribute 'dimensions'",
     "output_type": "error",
     "traceback": [
      "\u001b[1;31m---------------------------------------------------------------------------\u001b[0m",
      "\u001b[1;31mAttributeError\u001b[0m                            Traceback (most recent call last)",
      "\u001b[1;32m<ipython-input-40-14edfc382117>\u001b[0m in \u001b[0;36m<module>\u001b[1;34m\u001b[0m\n\u001b[0;32m      4\u001b[0m \u001b[0mprint\u001b[0m\u001b[1;33m(\u001b[0m\u001b[0my\u001b[0m\u001b[1;33m)\u001b[0m\u001b[1;33m\u001b[0m\u001b[1;33m\u001b[0m\u001b[0m\n\u001b[0;32m      5\u001b[0m \u001b[0mprint\u001b[0m\u001b[1;33m(\u001b[0m\u001b[0mz\u001b[0m\u001b[1;33m)\u001b[0m\u001b[1;33m\u001b[0m\u001b[1;33m\u001b[0m\u001b[0m\n\u001b[1;32m----> 6\u001b[1;33m \u001b[0mx\u001b[0m\u001b[1;33m.\u001b[0m\u001b[0mdimensions\u001b[0m\u001b[1;33m\u001b[0m\u001b[1;33m\u001b[0m\u001b[0m\n\u001b[0m",
      "\u001b[1;31mAttributeError\u001b[0m: 'list' object has no attribute 'dimensions'"
     ]
    }
   ],
   "source": [
    "x=['n','z','v','s','t','h','o']\n",
    "y=x[4]+x[2]\n",
    "z=x[-3]+x[-5]\n",
    "print(y)\n",
    "print(z)"
   ]
  },
  {
   "cell_type": "code",
   "execution_count": 58,
   "metadata": {},
   "outputs": [
    {
     "name": "stdout",
     "output_type": "stream",
     "text": [
      "[[14 21  0  0]\n",
      " [12  6 23 29]\n",
      " [ 5  2  0  0]]\n",
      "(3, 4)\n",
      "12\n"
     ]
    }
   ],
   "source": [
    "import numpy as np\n",
    "x = np.array([14, 21,0,0])\n",
    "y = np.array([12, 6, 23, 29])\n",
    "w = np.array([5,2,0,0])\n",
    "z = np.array([x,y,w])\n",
    "print(z)\n",
    "print(z.shape)\n",
    "print(z.size)"
   ]
  },
  {
   "cell_type": "code",
   "execution_count": 83,
   "metadata": {},
   "outputs": [
    {
     "name": "stdout",
     "output_type": "stream",
     "text": [
      "1\n"
     ]
    }
   ],
   "source": [
    "z='mathematics'\n",
    "c=z.count('e')\n",
    "print(c)"
   ]
  },
  {
   "cell_type": "code",
   "execution_count": 97,
   "metadata": {},
   "outputs": [
    {
     "name": "stdout",
     "output_type": "stream",
     "text": [
      "I said Hey Hey Hey Hey!\n"
     ]
    }
   ],
   "source": [
    "a=\"I said \" + (\"Hey \" * 3) + \"Hey!\"\n",
    "print(a)\n"
   ]
  },
  {
   "cell_type": "code",
   "execution_count": 98,
   "metadata": {},
   "outputs": [
    {
     "name": "stdout",
     "output_type": "stream",
     "text": [
      "Hey!!! my dear friend\n"
     ]
    }
   ],
   "source": [
    "a=\"Hey\"+'!'*3 + \" my dear friend\"\n",
    "print(a)"
   ]
  },
  {
   "cell_type": "code",
   "execution_count": 108,
   "metadata": {},
   "outputs": [
    {
     "name": "stdout",
     "output_type": "stream",
     "text": [
      "1\n"
     ]
    }
   ],
   "source": [
    "print(True + False)"
   ]
  },
  {
   "cell_type": "code",
   "execution_count": 107,
   "metadata": {},
   "outputs": [
    {
     "name": "stdout",
     "output_type": "stream",
     "text": [
      "<class 'list'>\n"
     ]
    }
   ],
   "source": [
    "a=[1,2,3]\n",
    "print(type(a))"
   ]
  },
  {
   "cell_type": "code",
   "execution_count": 3,
   "metadata": {},
   "outputs": [
    {
     "name": "stdout",
     "output_type": "stream",
     "text": [
      "['hallway', 11.25, 'kitchen', 18.0, 'chill zone', 20.0, 'bedroom', 10.75, 'bathroom', 10.5, 1]\n"
     ]
    }
   ],
   "source": [
    "areas = [\"hallway\", 11.25, \"kitchen\", 18.0, \"chill zone\", 20.0,\n",
    "         \"bedroom\", 10.75, \"bathroom\", 10.50]\n",
    "\n",
    "areas.append(1)\n",
    "print(areas)"
   ]
  },
  {
   "cell_type": "code",
   "execution_count": 32,
   "metadata": {},
   "outputs": [
    {
     "name": "stdout",
     "output_type": "stream",
     "text": [
      "['hallway', 11.25, 'kitchen', 18.0, 'chill zone', 20.0, 'bedroom', 10.75, 'bathroom', 10.5, 'garage', 15.45]\n"
     ]
    }
   ],
   "source": [
    "areas = [\"hallway\", 11.25, \"kitchen\", 18.0,\n",
    "        \"chill zone\", 20.0, \"bedroom\", 10.75,\n",
    "         \"bathroom\", 10.50, \"poolhouse\", 24.5,\n",
    "         \"garage\", 15.45]\n",
    "del(areas[10:12])\n",
    "print(areas)"
   ]
  },
  {
   "cell_type": "code",
   "execution_count": 38,
   "metadata": {},
   "outputs": [
    {
     "name": "stdout",
     "output_type": "stream",
     "text": [
      "['hallway', 11.25, 'kitchen', 18.0, 'chill zone', 20.0, 'bedroom', 10.75, 'bathroom', 10.5, 'poolhouse', 24.5, 'garage', 15.45]\n"
     ]
    }
   ],
   "source": [
    "areas = [\"hallway\", 11.25, \"kitchen\", 18.0,\n",
    "        \"chill zone\", 20.0, \"bedroom\", 10.75,\n",
    "         \"bathroom\", 10.50, \"poolhouse\", 24.5,\n",
    "         \"garage\", 15.45]\n",
    "areas1=list(areas)\n",
    "areas1[1]=11.00\n",
    "print(areas)"
   ]
  },
  {
   "cell_type": "code",
   "execution_count": 95,
   "metadata": {},
   "outputs": [
    {
     "name": "stdout",
     "output_type": "stream",
     "text": [
      "[2, 3, 5, 8]\n",
      "['a', 'm', 'w', 'x']\n",
      "a\n",
      "w\n",
      "x\n",
      "m\n"
     ]
    }
   ],
   "source": [
    "a=[3,5,2,8]\n",
    "b=[\"a\",\"w\",\"x\",\"m\"]\n",
    "y=sorted(a,reverse=False)\n",
    "z=sorted(b,reverse=False)\n",
    "print(y)\n",
    "print(z)\n",
    "for j in b:\n",
    "    print(j)"
   ]
  },
  {
   "cell_type": "code",
   "execution_count": 86,
   "metadata": {},
   "outputs": [
    {
     "name": "stdout",
     "output_type": "stream",
     "text": [
      "PRASANTH.VATTIKONDA\n",
      "prasanth.vattikonda\n",
      "Prasanth.vattikonda\n",
      "1\n",
      "prsssnth.vsttikonds\n",
      "18\n"
     ]
    }
   ],
   "source": [
    "a='prasanth.vattikonda'\n",
    "l=a.capitalize()\n",
    "m=a.upper()\n",
    "n=a.lower()\n",
    "o=a.count('.')\n",
    "p=a.replace('a','s')\n",
    "q=a.index('o')+a.index('s')\n",
    "print(m)\n",
    "print(n)\n",
    "print(l)\n",
    "print(o)\n",
    "print(p)\n",
    "print(q)"
   ]
  },
  {
   "cell_type": "code",
   "execution_count": 74,
   "metadata": {},
   "outputs": [
    {
     "name": "stdout",
     "output_type": "stream",
     "text": [
      "circumference of a circle is 12.566370614359172\n",
      "areas of circle, when radius is 2.1 cm 12.566370614359172\n"
     ]
    }
   ],
   "source": [
    "import math\n",
    "r=2\n",
    "c=2*math.pi*r\n",
    "print('circumference of a circle is '+str(c))\n",
    "import math\n",
    "a=math.pi*r**2\n",
    "print('areas of circle, when radius is 2.1 cm '+ str(a))"
   ]
  },
  {
   "cell_type": "code",
   "execution_count": 85,
   "metadata": {},
   "outputs": [
    {
     "name": "stdout",
     "output_type": "stream",
     "text": [
      "apple\n",
      "banana\n",
      "cherry\n",
      "orange\n",
      "kiwi\n",
      "melon\n",
      "mango\n"
     ]
    }
   ],
   "source": [
    "y = [\"apple\", \"banana\", \"cherry\", \"orange\", \"kiwi\", \"melon\", \"mango\"]\n",
    "for i in y:\n",
    "  print(i)"
   ]
  },
  {
   "cell_type": "code",
   "execution_count": 115,
   "metadata": {},
   "outputs": [
    {
     "name": "stdout",
     "output_type": "stream",
     "text": [
      "b\n",
      "a\n",
      "c\n",
      "apple not found\n"
     ]
    }
   ],
   "source": [
    "#Control or conditional  statements  in python if,elif and else\n",
    "y = {\"a\",\"b\",\"c\"}\n",
    "for i in y:\n",
    "    print(i)\n",
    "if 'apple' in y:\n",
    "    print('apple found')\n",
    "elif 'apple' not in y:\n",
    "    print('apple not found')\n",
    "else :\n",
    "    print('none of the above')"
   ]
  },
  {
   "cell_type": "code",
   "execution_count": 132,
   "metadata": {},
   "outputs": [
    {
     "name": "stdout",
     "output_type": "stream",
     "text": [
      "['b', 'a', 'c']\n"
     ]
    }
   ],
   "source": [
    "y = [\"a\",\"b\",\"c\"]\n",
    "y.insert(0,'b')\n",
    "y.pop(2)\n",
    "print(y)"
   ]
  },
  {
   "cell_type": "code",
   "execution_count": null,
   "metadata": {},
   "outputs": [],
   "source": []
  }
 ],
 "metadata": {
  "kernelspec": {
   "display_name": "Python 3",
   "language": "python",
   "name": "python3"
  },
  "language_info": {
   "codemirror_mode": {
    "name": "ipython",
    "version": 3
   },
   "file_extension": ".py",
   "mimetype": "text/x-python",
   "name": "python",
   "nbconvert_exporter": "python",
   "pygments_lexer": "ipython3",
   "version": "3.7.4"
  }
 },
 "nbformat": 4,
 "nbformat_minor": 2
}
