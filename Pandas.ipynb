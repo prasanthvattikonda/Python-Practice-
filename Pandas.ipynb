{
 "cells": [
  {
   "cell_type": "code",
   "execution_count": 1,
   "metadata": {},
   "outputs": [
    {
     "name": "stdout",
     "output_type": "stream",
     "text": [
      "{'country': ['United States', 'Australia', 'Japan', 'India', 'Russia', 'Morocco', 'Egypt'], 'drives_right': [True, False, False, False, True, True, True], 'cars_per_cap': [809, 731, 588, 18, 200, 70, 45]}\n",
      "           country  drives_right  cars_per_cap\n",
      "US   United States          True           809\n",
      "AUS      Australia         False           731\n",
      "JPN          Japan         False           588\n",
      "IN           India         False            18\n",
      "RU          Russia          True           200\n",
      "MOR        Morocco          True            70\n",
      "EG           Egypt          True            45\n"
     ]
    }
   ],
   "source": [
    "#>>Pandas is an open source library, providing high-performance, easy-to-use data structures and data analysis tools for Python#\n",
    "#it is used to handle multi datatype unlike nyumpy which can deal with single data type#\n",
    "#DataFrame is one of most important data structure in pandas#\n",
    "import pandas as pd\n",
    "names = ['United States', 'Australia', 'Japan', 'India', 'Russia', 'Morocco', 'Egypt']\n",
    "dr =  [True, False, False, False, True, True, True]\n",
    "cpc = [809, 731, 588, 18, 200, 70, 45]\n",
    "my_dict = {'country':names,\n",
    "'drives_right':dr ,'cars_per_cap':cpc}   # creating dictonary from list\n",
    "print(my_dict)\n",
    "cars = pd.DataFrame(my_dict)  # creating data frame from dictonary\n",
    "row_labels = ['US', 'AUS', 'JPN', 'IN', 'RU', 'MOR', 'EG']   \n",
    "cars.index = row_labels      #declaring labels instead of 0,1,2,3,4,5,6\n",
    "print(cars)"
   ]
  },
  {
   "cell_type": "code",
   "execution_count": 2,
   "metadata": {},
   "outputs": [
    {
     "name": "stdout",
     "output_type": "stream",
     "text": [
      "<class 'pandas.core.frame.DataFrame'>\n",
      "RangeIndex: 3313 entries, 0 to 3312\n",
      "Data columns (total 6 columns):\n",
      "fighter_name    3313 non-null object\n",
      "Height          3050 non-null object\n",
      "Weight          3238 non-null object\n",
      "Reach           1569 non-null object\n",
      "Stance          2439 non-null object\n",
      "DOB             2573 non-null object\n",
      "dtypes: object(6)\n",
      "memory usage: 155.4+ KB\n"
     ]
    },
    {
     "name": "stderr",
     "output_type": "stream",
     "text": [
      "C:\\ProgramData\\Anaconda3\\lib\\site-packages\\pandas\\core\\indexing.py:1418: FutureWarning: \n",
      "Passing list-likes to .loc or [] with any missing label will raise\n",
      "KeyError in the future, you can use .reindex() as an alternative.\n",
      "\n",
      "See the documentation here:\n",
      "https://pandas.pydata.org/pandas-docs/stable/user_guide/indexing.html#deprecate-loc-reindex-listlike\n",
      "  return self._getitem_tuple(key)\n"
     ]
    },
    {
     "data": {
      "text/html": [
       "<div>\n",
       "<style scoped>\n",
       "    .dataframe tbody tr th:only-of-type {\n",
       "        vertical-align: middle;\n",
       "    }\n",
       "\n",
       "    .dataframe tbody tr th {\n",
       "        vertical-align: top;\n",
       "    }\n",
       "\n",
       "    .dataframe thead th {\n",
       "        text-align: right;\n",
       "    }\n",
       "</style>\n",
       "<table border=\"1\" class=\"dataframe\">\n",
       "  <thead>\n",
       "    <tr style=\"text-align: right;\">\n",
       "      <th></th>\n",
       "      <th>weight</th>\n",
       "      <th>Stance</th>\n",
       "    </tr>\n",
       "  </thead>\n",
       "  <tbody>\n",
       "    <tr>\n",
       "      <td>0</td>\n",
       "      <td>NaN</td>\n",
       "      <td>NaN</td>\n",
       "    </tr>\n",
       "    <tr>\n",
       "      <td>1</td>\n",
       "      <td>NaN</td>\n",
       "      <td>NaN</td>\n",
       "    </tr>\n",
       "    <tr>\n",
       "      <td>2</td>\n",
       "      <td>NaN</td>\n",
       "      <td>NaN</td>\n",
       "    </tr>\n",
       "    <tr>\n",
       "      <td>3</td>\n",
       "      <td>NaN</td>\n",
       "      <td>NaN</td>\n",
       "    </tr>\n",
       "    <tr>\n",
       "      <td>4</td>\n",
       "      <td>NaN</td>\n",
       "      <td>NaN</td>\n",
       "    </tr>\n",
       "    <tr>\n",
       "      <td>...</td>\n",
       "      <td>...</td>\n",
       "      <td>...</td>\n",
       "    </tr>\n",
       "    <tr>\n",
       "      <td>3308</td>\n",
       "      <td>NaN</td>\n",
       "      <td>Orthodox</td>\n",
       "    </tr>\n",
       "    <tr>\n",
       "      <td>3309</td>\n",
       "      <td>NaN</td>\n",
       "      <td>Southpaw</td>\n",
       "    </tr>\n",
       "    <tr>\n",
       "      <td>3310</td>\n",
       "      <td>NaN</td>\n",
       "      <td>Orthodox</td>\n",
       "    </tr>\n",
       "    <tr>\n",
       "      <td>3311</td>\n",
       "      <td>NaN</td>\n",
       "      <td>Orthodox</td>\n",
       "    </tr>\n",
       "    <tr>\n",
       "      <td>3312</td>\n",
       "      <td>NaN</td>\n",
       "      <td>Orthodox</td>\n",
       "    </tr>\n",
       "  </tbody>\n",
       "</table>\n",
       "<p>3313 rows × 2 columns</p>\n",
       "</div>"
      ],
      "text/plain": [
       "      weight    Stance\n",
       "0        NaN       NaN\n",
       "1        NaN       NaN\n",
       "2        NaN       NaN\n",
       "3        NaN       NaN\n",
       "4        NaN       NaN\n",
       "...      ...       ...\n",
       "3308     NaN  Orthodox\n",
       "3309     NaN  Southpaw\n",
       "3310     NaN  Orthodox\n",
       "3311     NaN  Orthodox\n",
       "3312     NaN  Orthodox\n",
       "\n",
       "[3313 rows x 2 columns]"
      ]
     },
     "execution_count": 2,
     "metadata": {},
     "output_type": "execute_result"
    }
   ],
   "source": [
    "#>>Importing CSV file using pandas # various kinds of built in function that we normally we use in pandas#\n",
    "import pandas as pd\n",
    "m =pd.read_csv(r'C:\\\\Users\\\\prasanth vattikonda\\\\Python\\raw_fighter_details.csv')  #.csv is mandatory\n",
    "#>>now the most important part using pnadas in Exploratary Data Analysis (EDA).Please find below #\n",
    "m.head()          #to list the forst 5 rows\n",
    "m.info()          #to provide the information about the dataset like range,no. of columns,datatypes and memory\n",
    "m.describe()      #to provide the frequency datails of each values in a row\n",
    "m.isnull()        #to list out the null values presence \n",
    "m.tail()          #Last five rows of the given dataset\n",
    "\n",
    "#>>Indexing and Selecting Data from Pandas\n",
    "m['Stance']       #Using Single bracket we can list out the particular one column values\n",
    "m[['Stance']]     #Usning Double bracket we can list out the particular one or more column values as in the dataframe \n",
    "#m['Weight','Stance'] #Single bracket won't work for more than one column\n",
    "m[['Weight','Stance']] #See how it workes with double brackets\n",
    "m[0:3]            #indexing to list out the first 3 observations using square brackets\n",
    "#>loc and iloc are the label based secelction operations\n",
    "#m.loc['label name'] #if you any label name you give here\n",
    "m.iloc[2]         #integer index can be given as a lebel if there is no label name specified\n",
    "#Same as done above , if you are looking for more than one observations, you can go for double brackets\n",
    "#In the same we can also use these label operations for both rows and also columns as well. Let's see\n",
    "m.loc[[0,1],['Weight','Stance']]\n",
    "#Now, we can also select only columns using these label operations, here you go\n",
    "m.loc[:,'Weight'] #selection as series \n",
    "m.loc[:,['weight','Stance']]  #Slection as Data Frame"
   ]
  },
  {
   "cell_type": "code",
   "execution_count": 3,
   "metadata": {},
   "outputs": [
    {
     "name": "stdout",
     "output_type": "stream",
     "text": [
      "0        5' 4\"\n",
      "1       5' 11\"\n",
      "2       5' 10\"\n",
      "3        5' 7\"\n",
      "4        6' 0\"\n",
      "         ...  \n",
      "3308     6' 0\"\n",
      "3309    5' 11\"\n",
      "3310     5' 4\"\n",
      "3311     6' 1\"\n",
      "3312     5' 8\"\n",
      "Name: Height, Length: 3313, dtype: object\n"
     ]
    }
   ],
   "source": [
    "#Boolean operations in pandas DataFrame\n",
    "import pandas as pd\n",
    "s = pd.read_csv(r'C:\\\\Users\\\\prasanth vattikonda\\\\Python\\raw_fighter_details.csv')\n",
    "m= s['Height'] \n",
    "print(m)"
   ]
  },
  {
   "cell_type": "code",
   "execution_count": null,
   "metadata": {},
   "outputs": [],
   "source": []
  }
 ],
 "metadata": {
  "kernelspec": {
   "display_name": "Python 3",
   "language": "python",
   "name": "python3"
  },
  "language_info": {
   "codemirror_mode": {
    "name": "ipython",
    "version": 3
   },
   "file_extension": ".py",
   "mimetype": "text/x-python",
   "name": "python",
   "nbconvert_exporter": "python",
   "pygments_lexer": "ipython3",
   "version": "3.7.4"
  }
 },
 "nbformat": 4,
 "nbformat_minor": 2
}
