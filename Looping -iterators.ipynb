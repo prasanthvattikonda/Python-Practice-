{
 "cells": [
  {
   "cell_type": "code",
   "execution_count": 4,
   "metadata": {},
   "outputs": [
    {
     "name": "stdout",
     "output_type": "stream",
     "text": [
      "the area of hallway is 11.25\n",
      "the area of kitchen is 18.0\n",
      "the area of chill zone is 20.0\n",
      "the area of bedroom is 10.75\n",
      "the area of bathroom is 10.5\n",
      "the area of poolhouse is 24.5\n",
      "the area of garage is 15.45\n"
     ]
    }
   ],
   "source": [
    "##>Writing for loop for dictioneries by using itesm() # Some times the output order of dictioneries may change#Inherent\n",
    "\n",
    "areas = {\"hallway\" :11.25, \"kitchen\" :18.0,\n",
    "        \"chill zone\":20.0, \"bedroom\":10.75,\n",
    "         \"bathroom\":10.50, \"poolhouse\" :24.5,\n",
    "         \"garage\" :15.45}\n",
    "for key, value in areas.items() :\n",
    "  print('the area of ' + key + ' is ' + str(value))\n"
   ]
  },
  {
   "cell_type": "code",
   "execution_count": 17,
   "metadata": {},
   "outputs": [
    {
     "name": "stdout",
     "output_type": "stream",
     "text": [
      "180.0\n"
     ]
    },
    {
     "ename": "NameError",
     "evalue": "name 'y' is not defined",
     "output_type": "error",
     "traceback": [
      "\u001b[1;31m---------------------------------------------------------------------------\u001b[0m",
      "\u001b[1;31mNameError\u001b[0m                                 Traceback (most recent call last)",
      "\u001b[1;32m<ipython-input-17-7b9725db10fe>\u001b[0m in \u001b[0;36m<module>\u001b[1;34m\u001b[0m\n\u001b[0;32m      4\u001b[0m \u001b[1;32mfor\u001b[0m \u001b[0mx\u001b[0m \u001b[1;32min\u001b[0m \u001b[0mnp\u001b[0m\u001b[1;33m.\u001b[0m\u001b[0mnditer\u001b[0m\u001b[1;33m(\u001b[0m\u001b[0mnp_baseball\u001b[0m\u001b[1;33m)\u001b[0m \u001b[1;33m:\u001b[0m\u001b[1;33m\u001b[0m\u001b[1;33m\u001b[0m\u001b[0m\n\u001b[0;32m      5\u001b[0m   \u001b[0mprint\u001b[0m\u001b[1;33m(\u001b[0m\u001b[0mx\u001b[0m\u001b[1;33m)\u001b[0m\u001b[1;33m\u001b[0m\u001b[1;33m\u001b[0m\u001b[0m\n\u001b[1;32m----> 6\u001b[1;33m   \u001b[0mprint\u001b[0m\u001b[1;33m(\u001b[0m\u001b[0my\u001b[0m\u001b[1;33m)\u001b[0m\u001b[1;33m\u001b[0m\u001b[1;33m\u001b[0m\u001b[0m\n\u001b[0m\u001b[0;32m      7\u001b[0m \u001b[1;33m\u001b[0m\u001b[0m\n",
      "\u001b[1;31mNameError\u001b[0m: name 'y' is not defined"
     ]
    }
   ],
   "source": [
    "import numpy as np\n",
    "np_baseball = np.array([[180, 78.4],[215, 102.7],[210, 98.5],[188, 75.2]])\n",
    "\n",
    "for x in np.nditer(np_baseball) :\n",
    "  print(x)\n",
    "  print(y)\n",
    "\n"
   ]
  },
  {
   "cell_type": "code",
   "execution_count": 27,
   "metadata": {},
   "outputs": [
    {
     "name": "stdout",
     "output_type": "stream",
     "text": [
      "          fighter_name  Height    Weight Reach    Stance           DOB  \\\n",
      "0           AJ Fonseca   5' 4\"  145 lbs.   NaN       NaN           NaN   \n",
      "1          AJ Matthews  5' 11\"  185 lbs.   NaN       NaN           NaN   \n",
      "2             AJ McKee  5' 10\"  145 lbs.   NaN       NaN           NaN   \n",
      "3            AJ Siscoe   5' 7\"  135 lbs.   NaN       NaN           NaN   \n",
      "4           Aalon Cruz   6' 0\"  145 lbs.   NaN       NaN           NaN   \n",
      "...                ...     ...       ...   ...       ...           ...   \n",
      "3308     Zelim Imadaev   6' 0\"  170 lbs.   76\"  Orthodox  Jan 25, 1995   \n",
      "3309      Zhang Lipeng  5' 11\"  155 lbs.   71\"  Southpaw  Mar 10, 1990   \n",
      "3310     Zoila Frausto   5' 4\"  135 lbs.   NaN  Orthodox           NaN   \n",
      "3311        Zu Anyanwu   6' 1\"  251 lbs.   77\"  Orthodox  Aug 05, 1981   \n",
      "3312  Zubaira Tukhugov   5' 8\"  145 lbs.   68\"  Orthodox  Jan 15, 1991   \n",
      "\n",
      "          FIGHTER_NAME  \n",
      "0           AJ FONSECA  \n",
      "1          AJ MATTHEWS  \n",
      "2             AJ MCKEE  \n",
      "3            AJ SISCOE  \n",
      "4           AALON CRUZ  \n",
      "...                ...  \n",
      "3308     ZELIM IMADAEV  \n",
      "3309      ZHANG LIPENG  \n",
      "3310     ZOILA FRAUSTO  \n",
      "3311        ZU ANYANWU  \n",
      "3312  ZUBAIRA TUKHUGOV  \n",
      "\n",
      "[3313 rows x 7 columns]\n"
     ]
    }
   ],
   "source": [
    "##>looping in pandas to get the row details separately with individual column names (label based)\n",
    "import pandas as pd\n",
    "breaks = pd.read_csv(r'C:\\\\Users\\\\prasanth vattikonda\\\\Python\\raw_fighter_details.csv')\n",
    "for lab,row in breaks.iterrows():\n",
    "    print(lab)\n",
    "    print(row['fighter_name'])\n",
    "\n",
    "#Below command line is to to find the lenght of the names in the particular column in a new column#Adding new column  \n",
    "#breaks['name_lenghth'] = breaks['fighter_name'].apply(len)\n",
    "breaks['FIGHTER_NAME'] = breaks['fighter_name'].apply(str.upper)\n",
    "print(breaks)"
   ]
  },
  {
   "cell_type": "code",
   "execution_count": 11,
   "metadata": {},
   "outputs": [
    {
     "data": {
      "text/plain": [
       "'C:\\\\Users\\\\prasanth vattikonda\\\\Python'"
      ]
     },
     "execution_count": 11,
     "metadata": {},
     "output_type": "execute_result"
    }
   ],
   "source": []
  },
  {
   "cell_type": "code",
   "execution_count": null,
   "metadata": {},
   "outputs": [],
   "source": []
  }
 ],
 "metadata": {
  "kernelspec": {
   "display_name": "Python 3",
   "language": "python",
   "name": "python3"
  },
  "language_info": {
   "codemirror_mode": {
    "name": "ipython",
    "version": 3
   },
   "file_extension": ".py",
   "mimetype": "text/x-python",
   "name": "python",
   "nbconvert_exporter": "python",
   "pygments_lexer": "ipython3",
   "version": "3.7.4"
  }
 },
 "nbformat": 4,
 "nbformat_minor": 2
}
